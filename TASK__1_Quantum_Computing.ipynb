{
  "nbformat": 4,
  "nbformat_minor": 0,
  "metadata": {
    "colab": {
      "provenance": []
    },
    "kernelspec": {
      "name": "python3",
      "display_name": "Python 3"
    },
    "language_info": {
      "name": "python"
    }
  },
  "cells": [
    {
      "cell_type": "markdown",
      "source": [
        "# **Task I: Quantum Computing Part**\n",
        "\n",
        "\n",
        "\n"
      ],
      "metadata": {
        "id": "kjZsc0nh99ZQ"
      }
    },
    {
      "cell_type": "markdown",
      "source": [
        "###1) implement a simple quantum operation with Cirq or Pennylane\n",
        "\n",
        "a) With 5 qubits \n",
        "\n",
        "b) Apply Hadamard operation on every qubit\n",
        "\n",
        "c) Apply CNOT operation on (0, 1), (1,2), (2,3), (3,4) \n",
        "\n",
        "d) SWAP (0, 4) \n",
        "\n",
        "e) Rotate X with pi/2 on any qubit \n",
        "\n",
        "f) Plot the circuit \n"
      ],
      "metadata": {
        "id": "TsGKTC5eYGss"
      }
    },
    {
      "cell_type": "code",
      "source": [
        "!pip install pennylane"
      ],
      "metadata": {
        "colab": {
          "base_uri": "https://localhost:8080/"
        },
        "id": "j2iS6PiLRH6j",
        "outputId": "5311e602-d800-45d1-b2a1-a8f93b6ce7ad"
      },
      "execution_count": 1,
      "outputs": [
        {
          "output_type": "stream",
          "name": "stdout",
          "text": [
            "Looking in indexes: https://pypi.org/simple, https://us-python.pkg.dev/colab-wheels/public/simple/\n",
            "Collecting pennylane\n",
            "  Downloading PennyLane-0.29.0-py3-none-any.whl (1.3 MB)\n",
            "\u001b[2K     \u001b[90m━━━━━━━━━━━━━━━━━━━━━━━━━━━━━━━━━━━━━━━━\u001b[0m \u001b[32m1.3/1.3 MB\u001b[0m \u001b[31m18.7 MB/s\u001b[0m eta \u001b[36m0:00:00\u001b[0m\n",
            "\u001b[?25hRequirement already satisfied: numpy<1.24 in /usr/local/lib/python3.8/dist-packages (from pennylane) (1.22.4)\n",
            "Requirement already satisfied: scipy in /usr/local/lib/python3.8/dist-packages (from pennylane) (1.10.1)\n",
            "Collecting semantic-version>=2.7\n",
            "  Downloading semantic_version-2.10.0-py2.py3-none-any.whl (15 kB)\n",
            "Requirement already satisfied: networkx in /usr/local/lib/python3.8/dist-packages (from pennylane) (3.0)\n",
            "Collecting pennylane-lightning>=0.28\n",
            "  Downloading PennyLane_Lightning-0.29.0-cp38-cp38-manylinux_2_17_x86_64.manylinux2014_x86_64.whl (16.5 MB)\n",
            "\u001b[2K     \u001b[90m━━━━━━━━━━━━━━━━━━━━━━━━━━━━━━━━━━━━━━━━\u001b[0m \u001b[32m16.5/16.5 MB\u001b[0m \u001b[31m48.3 MB/s\u001b[0m eta \u001b[36m0:00:00\u001b[0m\n",
            "\u001b[?25hRequirement already satisfied: toml in /usr/local/lib/python3.8/dist-packages (from pennylane) (0.10.2)\n",
            "Requirement already satisfied: autograd in /usr/local/lib/python3.8/dist-packages (from pennylane) (1.5)\n",
            "Collecting retworkx\n",
            "  Downloading retworkx-0.12.1-py3-none-any.whl (10 kB)\n",
            "Collecting autoray>=0.3.1\n",
            "  Downloading autoray-0.6.1-py3-none-any.whl (47 kB)\n",
            "\u001b[2K     \u001b[90m━━━━━━━━━━━━━━━━━━━━━━━━━━━━━━━━━━━━━━━━\u001b[0m \u001b[32m47.3/47.3 KB\u001b[0m \u001b[31m3.0 MB/s\u001b[0m eta \u001b[36m0:00:00\u001b[0m\n",
            "\u001b[?25hRequirement already satisfied: appdirs in /usr/local/lib/python3.8/dist-packages (from pennylane) (1.4.4)\n",
            "Requirement already satisfied: requests in /usr/local/lib/python3.8/dist-packages (from pennylane) (2.25.1)\n",
            "Requirement already satisfied: cachetools in /usr/local/lib/python3.8/dist-packages (from pennylane) (5.3.0)\n",
            "Requirement already satisfied: future>=0.15.2 in /usr/local/lib/python3.8/dist-packages (from autograd->pennylane) (0.16.0)\n",
            "Requirement already satisfied: urllib3<1.27,>=1.21.1 in /usr/local/lib/python3.8/dist-packages (from requests->pennylane) (1.26.14)\n",
            "Requirement already satisfied: idna<3,>=2.5 in /usr/local/lib/python3.8/dist-packages (from requests->pennylane) (2.10)\n",
            "Requirement already satisfied: certifi>=2017.4.17 in /usr/local/lib/python3.8/dist-packages (from requests->pennylane) (2022.12.7)\n",
            "Requirement already satisfied: chardet<5,>=3.0.2 in /usr/local/lib/python3.8/dist-packages (from requests->pennylane) (4.0.0)\n",
            "Collecting rustworkx==0.12.1\n",
            "  Downloading rustworkx-0.12.1-cp38-cp38-manylinux_2_17_x86_64.manylinux2014_x86_64.whl (1.9 MB)\n",
            "\u001b[2K     \u001b[90m━━━━━━━━━━━━━━━━━━━━━━━━━━━━━━━━━━━━━━━━\u001b[0m \u001b[32m1.9/1.9 MB\u001b[0m \u001b[31m46.3 MB/s\u001b[0m eta \u001b[36m0:00:00\u001b[0m\n",
            "\u001b[?25hInstalling collected packages: semantic-version, rustworkx, autoray, retworkx, pennylane-lightning, pennylane\n",
            "Successfully installed autoray-0.6.1 pennylane-0.29.0 pennylane-lightning-0.29.0 retworkx-0.12.1 rustworkx-0.12.1 semantic-version-2.10.0\n"
          ]
        }
      ]
    },
    {
      "cell_type": "code",
      "source": [
        "import pennylane as qml\n",
        "from pennylane import numpy as np"
      ],
      "metadata": {
        "id": "gajMQpPqRJps"
      },
      "execution_count": 2,
      "outputs": []
    },
    {
      "cell_type": "code",
      "execution_count": 3,
      "metadata": {
        "id": "YwAjEh3_RFuN"
      },
      "outputs": [],
      "source": [
        "dev=qml.device(\"default.qubit\",wires=5)\n",
        "\n",
        "@qml.qnode(dev)\n",
        "def circuit(params):\n",
        "  qml.Hadamard(wires=0)\n",
        "  qml.Hadamard(wires=1)\n",
        "  qml.Hadamard(wires=2)\n",
        "  qml.Hadamard(wires=3)\n",
        "  qml.Hadamard(wires=4)\n",
        "\n",
        "  qml.CNOT(wires=[0,1])\n",
        "  qml.CNOT(wires=[1,2])\n",
        "  qml.CNOT(wires=[2,3])\n",
        "  qml.CNOT(wires=[3,4])\n",
        "\n",
        "  qml.SWAP(wires=[0,4])\n",
        "\n",
        "  qml.RX(params[0],wires=2)\n",
        "  \n",
        "  return qml.probs(wires=[0, 1, 2, 3, 4])"
      ]
    },
    {
      "cell_type": "code",
      "source": [
        "params=np.array([np.pi/2])\n",
        "print(qml.draw(circuit)(params))"
      ],
      "metadata": {
        "colab": {
          "base_uri": "https://localhost:8080/"
        },
        "id": "hL9HE0YtRykA",
        "outputId": "577bc911-bde4-4eca-b4ab-c338bc5537cd"
      },
      "execution_count": 4,
      "outputs": [
        {
          "output_type": "stream",
          "name": "stdout",
          "text": [
            "0: ──H─╭●──────────╭SWAP───────────┤ ╭Probs\n",
            "1: ──H─╰X─╭●───────│───────────────┤ ├Probs\n",
            "2: ──H────╰X─╭●────│──────RX(1.57)─┤ ├Probs\n",
            "3: ──H───────╰X─╭●─│───────────────┤ ├Probs\n",
            "4: ──H──────────╰X─╰SWAP───────────┤ ╰Probs\n"
          ]
        }
      ]
    },
    {
      "cell_type": "markdown",
      "source": [
        "###2) Implement a second circuit with a framework of your choice:\n",
        "a) Apply a Hadmard gate to the first qubit\n",
        "\n",
        "b) rotate the second qubit by pi/3 around X\n",
        "\n",
        "c) Apply Hadamard gate to the third and fourth qubit\n",
        "\n",
        "d) Perform a swap test between the states of the first and second qubit |q1 q2> and the third and fourth qubit |q3 q4>\n"
      ],
      "metadata": {
        "id": "xNJuT8XQX0Y4"
      }
    },
    {
      "cell_type": "markdown",
      "source": [
        "#### In order to perform swap test between Multi State system we need to perform swap test twice as stated in [Multi-state Swap Test algorithm] paper\n",
        "[Multi-state Swap Test algorithm]:https://arxiv.org/pdf/2205.07171.pdf\n",
        "\n",
        "#####The **New Multi-state Swap Test algorithm** paper states that, If the initial states are s1s2 = |+>|+> and q1q2q3q4 = |φ1> |φ2> |φ3> |φ4>. \n",
        "#####Two swap rules are designed as follows:N (N=2^2, 2^3,....2^k) , quantum states can be divided into four groups G1, G2, G3, G4. Rule1 is to exchange the states of 2nd and 3rd group in turn and get G1, G3, G2, G4; Rule2 is to exchange the states of 2nd and 4th group in turn and get G1, G4, G3, G2.\n",
        "\n",
        "#####We divide q1q2q3q4 into four groups G1 = q1; G2 = q2; G3 = q3; G4 = q4. There are also two CSWAP gates, where s1(s2) is the control qubit to swap two groups G2, G3(q2, q4) according to rule1(rule2). Two simple Swap Test for two quantum states are places at the end of U4 to measure the overlap for q1, q2 and q3, q4.\n",
        "\n",
        "\n",
        "######*For us in the question we have to measure overlap between the states of |q1q2> and |q3q4>,hence in order to obtain overlap of |q1q2> and |q3q4> as per the paper our s1s2 should be |00>.*\n"
      ],
      "metadata": {
        "id": "YtmZ05oGy3BL"
      }
    },
    {
      "cell_type": "code",
      "source": [
        "dev=qml.device(\"default.qubit\",wires=['s1','s2','q1','q2','q3','q4'])\n",
        "\n",
        "@qml.qnode(dev)\n",
        "def circuit_swap_test(params):\n",
        "  qml.BasisState(params[0],wires=['s1','s2']) #Initializing the basic states of s1s2 as |00>\n",
        "  qml.Hadamard(wires='q1') #hadamard gate on first qubit\n",
        "  qml.RX(params[1],wires='q2') #rotation by pi/3 around X on qubit 2\n",
        "  qml.Hadamard(wires='q3') # hadamard gate on qubits 3\n",
        "  qml.Hadamard(wires='q4') # hadamard gate on qubits 4\n",
        "\n",
        "  qml.CSWAP(wires=['s1','q2','q3']) #By rule 1 swapping G2 and G3 with S1 as ancillary qubit\n",
        "  qml.CSWAP(wires=['s2','q2','q4']) #By rule 2 swapping G2 and G4 with S2 as ancillary qubit \n",
        "\n",
        "  return qml.expval(qml.PauliZ(wires='q1'))"
      ],
      "metadata": {
        "id": "Ezt4ICIyTJgb"
      },
      "execution_count": 6,
      "outputs": []
    },
    {
      "cell_type": "code",
      "source": [
        "parameters=np.array([np.array([0]),np.pi/3])\n",
        "print(qml.draw(circuit_swap_test)(parameters))"
      ],
      "metadata": {
        "colab": {
          "base_uri": "https://localhost:8080/"
        },
        "id": "fRUCVMVN24ao",
        "outputId": "fd85cf91-51f1-4461-8f57-12b442f848ed"
      },
      "execution_count": 7,
      "outputs": [
        {
          "output_type": "stream",
          "name": "stdout",
          "text": [
            "s1: ─╭BasisState(M0)─╭●──────────┤     \n",
            "s2: ─╰BasisState(M0)─│─────╭●────┤     \n",
            "q1: ──H──────────────│─────│─────┤  <Z>\n",
            "q2: ──RX(1.05)───────├SWAP─├SWAP─┤     \n",
            "q3: ──H──────────────╰SWAP─│─────┤     \n",
            "q4: ──H────────────────────╰SWAP─┤     \n"
          ]
        },
        {
          "output_type": "stream",
          "name": "stderr",
          "text": [
            "/usr/local/lib/python3.8/dist-packages/autograd/numpy/numpy_wrapper.py:77: VisibleDeprecationWarning: Creating an ndarray from ragged nested sequences (which is a list-or-tuple of lists-or-tuples-or ndarrays with different lengths or shapes) is deprecated. If you meant to do this, you must specify 'dtype=object' when creating the ndarray.\n",
            "  return _np.array(args, *array_args, **array_kwargs)\n"
          ]
        }
      ]
    },
    {
      "cell_type": "code",
      "source": [],
      "metadata": {
        "id": "nDYt7wyP2-J_"
      },
      "execution_count": null,
      "outputs": []
    }
  ]
}